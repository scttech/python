{
 "cells": [
  {
   "cell_type": "markdown",
   "metadata": {},
   "source": [
    "# Introduction to Graphene\n",
    "\n",
    "Graphene is a Python implementation of GraphQL.  Graphene also supports other languages, and integrations.\n",
    "\n",
    "# What is GraphQL\n",
    "GraphQL is a query language for your API, and a server-side runtime for executing queries by using a type system you define for your data. GraphQL isn't tied to any specific database or storage engine and is instead backed by your existing code and data.\n",
    "\n",
    "# Getting Started\n",
    "pip3 install \"graphene>=2.0\"\n",
    "\n",
    "# Basic Schema\n",
    "The following creates a basic schema"
   ]
  },
  {
   "cell_type": "code",
   "execution_count": null,
   "metadata": {},
   "outputs": [],
   "source": [
    "import graphene\n",
    "\n",
    "class Query(graphene.ObjectType):\n",
    "    hello = graphene.String(argument=graphene.String(default_value=\"stranger\"))\n",
    "\n",
    "    def resolve_hello(self, info, argument):\n",
    "        return 'Hello ' + argument\n",
    "\n",
    "schema = graphene.Schema(query=Query)"
   ]
  },
  {
   "cell_type": "markdown",
   "metadata": {},
   "source": [
    "# Querying the schema\n",
    "We can now query our created schema"
   ]
  },
  {
   "cell_type": "code",
   "execution_count": null,
   "metadata": {},
   "outputs": [],
   "source": [
    "result = schema.execute('{ hello }')\n",
    "print(result.data['hello']) # \"Hello stranger\"\n",
    "\n",
    "# or passing the argument in the query\n",
    "result = schema.execute('{ hello (argument: \"graph\") }')\n",
    "print(result.data['hello']) # \"Hello graph\""
   ]
  },
  {
   "cell_type": "markdown",
   "metadata": {},
   "source": [
    "# Automated Testing\n",
    "Graphene suppport the use of automated testing"
   ]
  },
  {
   "cell_type": "code",
   "execution_count": null,
   "metadata": {},
   "outputs": [],
   "source": [
    "from graphene.test import Client\n",
    "\n",
    "def test_hello():\n",
    "    client = Client(schema)\n",
    "    executed = client.execute('{ hello }')\n",
    "    print(executed)\n",
    "    assert executed == \"{'data': OrderedDict([('hello', 'Hello stranger')])}\"\n",
    "    \n",
    "test_hello()"
   ]
  },
  {
   "cell_type": "code",
   "execution_count": null,
   "metadata": {},
   "outputs": [],
   "source": []
  }
 ],
 "metadata": {
  "kernelspec": {
   "display_name": "Python 3",
   "language": "python",
   "name": "python3"
  },
  "language_info": {
   "codemirror_mode": {
    "name": "ipython",
    "version": 3
   },
   "file_extension": ".py",
   "mimetype": "text/x-python",
   "name": "python",
   "nbconvert_exporter": "python",
   "pygments_lexer": "ipython3",
   "version": "3.5.3"
  }
 },
 "nbformat": 4,
 "nbformat_minor": 2
}
