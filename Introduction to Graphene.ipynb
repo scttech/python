{
 "cells": [
  {
   "cell_type": "markdown",
   "metadata": {},
   "source": [
    "# Introduction to Graphene\n",
    "\n",
    "Graphene is a Python implementation of GraphQL.  Graphene also supports other languages, and integrations.\n",
    "\n",
    "# What is GraphQL\n",
    "GraphQL is a query language for your API, and a server-side runtime for executing queries by using a type system you define for your data. GraphQL isn't tied to any specific database or storage engine and is instead backed by your existing code and data.\n",
    "\n",
    "# GraphQL vs REST\n",
    "\n",
    "REST depends on returning fixed data structures.  This leads to an over/under fetching problem where you are either getting more data than you require or you need to make multiple calls in order to get the data you need.\n",
    "\n",
    "## Over-fetching\n",
    "\n",
    "The client downloads more information than is required by the app.\n",
    "\n",
    "## Under-fetching\n",
    "\n",
    "When a specific endpoint does not contain enough information needed by the app and additional requests are required.\n",
    "\n",
    "# Getting Started\n",
    "pip3 install \"graphene>=2.0\"\n",
    "\n",
    "# Basic Schema\n",
    "The following creates a basic schema"
   ]
  },
  {
   "cell_type": "code",
   "execution_count": 2,
   "metadata": {},
   "outputs": [],
   "source": [
    "import graphene\n",
    "\n",
    "class Query(graphene.ObjectType):\n",
    "    hello = graphene.String(argument=graphene.String(default_value=\"stranger\"))\n",
    "\n",
    "    def resolve_hello(self, info, argument):\n",
    "        return 'Hello ' + argument\n",
    "\n",
    "schema = graphene.Schema(query=Query)"
   ]
  },
  {
   "cell_type": "markdown",
   "metadata": {},
   "source": [
    "# Querying the schema\n",
    "We can now query our created schema"
   ]
  },
  {
   "cell_type": "code",
   "execution_count": 3,
   "metadata": {},
   "outputs": [
    {
     "name": "stdout",
     "output_type": "stream",
     "text": [
      "Hello stranger\n",
      "Hello graph\n"
     ]
    }
   ],
   "source": [
    "result = schema.execute('{ hello }')\n",
    "print(result.data['hello']) # \"Hello stranger\"\n",
    "\n",
    "# or passing the argument in the query\n",
    "result = schema.execute('{ hello (argument: \"graph\") }')\n",
    "print(result.data['hello']) # \"Hello graph\""
   ]
  },
  {
   "cell_type": "markdown",
   "metadata": {},
   "source": [
    "# Automated Testing\n",
    "Graphene suppport the use of automated testing"
   ]
  },
  {
   "cell_type": "code",
   "execution_count": 8,
   "metadata": {},
   "outputs": [
    {
     "name": "stdout",
     "output_type": "stream",
     "text": [
      "{'data': OrderedDict([('hello', 'Hello stranger')])}\n",
      "{'data': OrderedDict([('hello', 'Hello stranger')])}\n"
     ]
    },
    {
     "ename": "AssertionError",
     "evalue": "",
     "output_type": "error",
     "traceback": [
      "\u001b[0;31m---------------------------------------------------------------------------\u001b[0m",
      "\u001b[0;31mAssertionError\u001b[0m                            Traceback (most recent call last)",
      "\u001b[0;32m<ipython-input-8-9cdba48c308e>\u001b[0m in \u001b[0;36m<module>\u001b[0;34m\u001b[0m\n\u001b[1;32m     22\u001b[0m \u001b[0;34m\u001b[0m\u001b[0m\n\u001b[1;32m     23\u001b[0m \u001b[0mtest_hello\u001b[0m\u001b[0;34m(\u001b[0m\u001b[0;34m)\u001b[0m\u001b[0;34m\u001b[0m\u001b[0m\n\u001b[0;32m---> 24\u001b[0;31m \u001b[0mtest_hello_fails\u001b[0m\u001b[0;34m(\u001b[0m\u001b[0;34m)\u001b[0m\u001b[0;34m\u001b[0m\u001b[0m\n\u001b[0m",
      "\u001b[0;32m<ipython-input-8-9cdba48c308e>\u001b[0m in \u001b[0;36mtest_hello_fails\u001b[0;34m()\u001b[0m\n\u001b[1;32m     17\u001b[0m     assert executed == {\n\u001b[1;32m     18\u001b[0m         'data': {\n\u001b[0;32m---> 19\u001b[0;31m             \u001b[0;34m'hello'\u001b[0m\u001b[0;34m:\u001b[0m \u001b[0;34m'Hello best friend'\u001b[0m\u001b[0;34m\u001b[0m\u001b[0m\n\u001b[0m\u001b[1;32m     20\u001b[0m         }\n\u001b[1;32m     21\u001b[0m     }\n",
      "\u001b[0;31mAssertionError\u001b[0m: "
     ]
    }
   ],
   "source": [
    "from graphene.test import Client\n",
    "\n",
    "def test_hello():\n",
    "    client = Client(schema)\n",
    "    executed = client.execute('{ hello }')\n",
    "    print(executed)\n",
    "    assert executed == {\n",
    "        'data': {\n",
    "            'hello': 'Hello stranger'\n",
    "        }\n",
    "    }\n",
    "    \n",
    "def test_hello_fails():\n",
    "    client = Client(schema)\n",
    "    executed = client.execute('{ hello }')\n",
    "    print(executed)\n",
    "    assert executed == {\n",
    "        'data': {\n",
    "            'hello': 'Hello best friend'\n",
    "        }\n",
    "    }\n",
    "    \n",
    "test_hello()\n",
    "test_hello_fails()"
   ]
  },
  {
   "cell_type": "code",
   "execution_count": null,
   "metadata": {},
   "outputs": [],
   "source": []
  }
 ],
 "metadata": {
  "kernelspec": {
   "display_name": "Python 3",
   "language": "python",
   "name": "python3"
  },
  "language_info": {
   "codemirror_mode": {
    "name": "ipython",
    "version": 3
   },
   "file_extension": ".py",
   "mimetype": "text/x-python",
   "name": "python",
   "nbconvert_exporter": "python",
   "pygments_lexer": "ipython3",
   "version": "3.5.3"
  }
 },
 "nbformat": 4,
 "nbformat_minor": 2
}
