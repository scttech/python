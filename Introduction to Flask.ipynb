{
 "cells": [
  {
   "cell_type": "markdown",
   "metadata": {},
   "source": [
    "# Introduction to Flask\n",
    "First lets import flask"
   ]
  },
  {
   "cell_type": "code",
   "execution_count": null,
   "metadata": {},
   "outputs": [],
   "source": [
    "from flask import Flask"
   ]
  },
  {
   "cell_type": "markdown",
   "metadata": {},
   "source": [
    "Now we will run a basic \"Hello World\" application"
   ]
  },
  {
   "cell_type": "code",
   "execution_count": null,
   "metadata": {},
   "outputs": [],
   "source": [
    "app = Flask(__name__)\n",
    " \n",
    "@app.route('/')\n",
    "def hello():\n",
    "    return 'Hello World!'\n",
    " \n",
    "@app.route('/goodbye')\n",
    "def goodbye():\n",
    "    shutdown_server()\n",
    "    return 'Sever shutting down...'\n",
    "    \n",
    "def shutdown_server():\n",
    "    func = request.environ.get('werkzeug.server.shutdown')\n",
    "    if func is None:\n",
    "        raise RuntimeError('Not running with the Werkzeug Server')\n",
    "    func()\n",
    "    \n",
    "if __name__ == \"__main__\":\n",
    "    app.run()"
   ]
  },
  {
   "cell_type": "markdown",
   "metadata": {},
   "source": [
    "# Specifying the Request Method\n",
    "Flask allows you to specify the allowed requests that can be made to a method.  We've added the below code.\n",
    "\n",
    "@app.route('/post', methods=['POST']) \n",
    "def post():\n",
    "    return \"Successful post\"\n",
    "    \n",
    "If you request the /post address using  GET request (enter the address http://127.0.0.1:5000/post) in your browser and you will receive: \n",
    "\n",
    "\"405 Method Not Allowed\"\n",
    "\n",
    "Issuing the request via a POST request (use Postman or curl) will return \n",
    "\n",
    "\"Successful post\""
   ]
  },
  {
   "cell_type": "code",
   "execution_count": null,
   "metadata": {},
   "outputs": [],
   "source": [
    "app = Flask(__name__)\n",
    " \n",
    "@app.route('/')\n",
    "def hello():\n",
    "    return 'Hello World!'\n",
    "\n",
    "@app.route('/post', methods=['POST'])\n",
    "def post():\n",
    "    return \"Successful post\"\n",
    " \n",
    "@app.route('/goodbye')\n",
    "def goodbye():\n",
    "    shutdown_server()\n",
    "    return 'Sever shutting down...'\n",
    "    \n",
    "def shutdown_server():\n",
    "    func = request.environ.get('werkzeug.server.shutdown')\n",
    "    if func is None:\n",
    "        raise RuntimeError('Not running with the Werkzeug Server')\n",
    "    func()\n",
    "    \n",
    "if __name__ == \"__main__\":\n",
    "    app.run()"
   ]
  },
  {
   "cell_type": "markdown",
   "metadata": {},
   "source": [
    "# Making the server visible on the network\n",
    "In this current configuration the server is only visible from our local machine.  We will change the app.run() line so that the server is visible on the network.\n",
    "Adding host=\"0.0.0.0\" will make it visible on the network\n",
    "\n",
    "app.run(host=\"0.0.0.0\")\n",
    "\n",
    "You can also set a specific IP address and port if necessary\n",
    "app.run(host=\"192.168.0.100\",port=8080)"
   ]
  },
  {
   "cell_type": "code",
   "execution_count": null,
   "metadata": {},
   "outputs": [
    {
     "name": "stderr",
     "output_type": "stream",
     "text": [
      " * Running on http://0.0.0.0:8080/ (Press CTRL+C to quit)\n",
      "127.0.0.1 - - [02/Feb/2019 17:57:17] \"GET / HTTP/1.1\" 200 -\n",
      "127.0.0.1 - - [02/Feb/2019 17:57:17] \"GET /favicon.ico HTTP/1.1\" 404 -\n",
      "192.168.0.111 - - [02/Feb/2019 18:01:00] \"GET / HTTP/1.1\" 200 -\n",
      "192.168.0.111 - - [02/Feb/2019 18:01:00] \"GET /favicon.ico HTTP/1.1\" 404 -\n"
     ]
    }
   ],
   "source": [
    "from flask import Flask\n",
    "\n",
    "app = Flask(__name__)\n",
    " \n",
    "@app.route('/')\n",
    "def hello():\n",
    "    return 'Hello World!'\n",
    "\n",
    "@app.route('/post', methods=['POST'])\n",
    "def post():\n",
    "    return \"Successful post\"\n",
    " \n",
    "@app.route('/goodbye')\n",
    "def goodbye():\n",
    "    shutdown_server()\n",
    "    return 'Sever shutting down...'\n",
    "    \n",
    "def shutdown_server():\n",
    "    func = request.environ.get('werkzeug.server.shutdown')\n",
    "    if func is None:\n",
    "        raise RuntimeError('Not running with the Werkzeug Server')\n",
    "    func()\n",
    "    \n",
    "if __name__ == \"__main__\":\n",
    "    app.run(host=\"0.0.0.0\",port=8080)"
   ]
  },
  {
   "cell_type": "code",
   "execution_count": null,
   "metadata": {},
   "outputs": [],
   "source": []
  }
 ],
 "metadata": {
  "kernelspec": {
   "display_name": "Python 3",
   "language": "python",
   "name": "python3"
  },
  "language_info": {
   "codemirror_mode": {
    "name": "ipython",
    "version": 3
   },
   "file_extension": ".py",
   "mimetype": "text/x-python",
   "name": "python",
   "nbconvert_exporter": "python",
   "pygments_lexer": "ipython3",
   "version": "3.5.3"
  }
 },
 "nbformat": 4,
 "nbformat_minor": 2
}
