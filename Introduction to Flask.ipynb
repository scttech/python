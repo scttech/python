{
 "cells": [
  {
   "cell_type": "markdown",
   "metadata": {},
   "source": [
    "# Introduction to Flask\n",
    "First lets import flask"
   ]
  },
  {
   "cell_type": "code",
   "execution_count": 1,
   "metadata": {},
   "outputs": [],
   "source": [
    "from flask import Flask"
   ]
  },
  {
   "cell_type": "markdown",
   "metadata": {},
   "source": [
    "Now we will run a basic \"Hello World\" application"
   ]
  },
  {
   "cell_type": "code",
   "execution_count": null,
   "metadata": {},
   "outputs": [
    {
     "name": "stderr",
     "output_type": "stream",
     "text": [
      " * Running on http://127.0.0.1:5000/ (Press CTRL+C to quit)\n",
      "127.0.0.1 - - [28/Jan/2019 14:23:04] \"GET / HTTP/1.1\" 200 -\n",
      "[2019-01-28 14:23:09,969] ERROR in app: Exception on /goodbye [GET]\n",
      "Traceback (most recent call last):\n",
      "  File \"C:\\Users\\e1031204\\AppData\\Local\\Continuum\\anaconda3\\lib\\site-packages\\flask\\app.py\", line 1982, in wsgi_app\n",
      "    response = self.full_dispatch_request()\n",
      "  File \"C:\\Users\\e1031204\\AppData\\Local\\Continuum\\anaconda3\\lib\\site-packages\\flask\\app.py\", line 1614, in full_dispatch_request\n",
      "    rv = self.handle_user_exception(e)\n",
      "  File \"C:\\Users\\e1031204\\AppData\\Local\\Continuum\\anaconda3\\lib\\site-packages\\flask\\app.py\", line 1517, in handle_user_exception\n",
      "    reraise(exc_type, exc_value, tb)\n",
      "  File \"C:\\Users\\e1031204\\AppData\\Local\\Continuum\\anaconda3\\lib\\site-packages\\flask\\_compat.py\", line 33, in reraise\n",
      "    raise value\n",
      "  File \"C:\\Users\\e1031204\\AppData\\Local\\Continuum\\anaconda3\\lib\\site-packages\\flask\\app.py\", line 1612, in full_dispatch_request\n",
      "    rv = self.dispatch_request()\n",
      "  File \"C:\\Users\\e1031204\\AppData\\Local\\Continuum\\anaconda3\\lib\\site-packages\\flask\\app.py\", line 1598, in dispatch_request\n",
      "    return self.view_functions[rule.endpoint](**req.view_args)\n",
      "  File \"<ipython-input-2-c4a84ab12a33>\", line 9, in goodbye\n",
      "    shutdown_server()\n",
      "  File \"<ipython-input-2-c4a84ab12a33>\", line 13, in shutdown_server\n",
      "    func = request.environ.get('werkzeug.server.shutdown')\n",
      "NameError: name 'request' is not defined\n",
      "127.0.0.1 - - [28/Jan/2019 14:23:09] \"GET /goodbye HTTP/1.1\" 500 -\n",
      "127.0.0.1 - - [28/Jan/2019 14:28:17] \"GET / HTTP/1.1\" 200 -\n"
     ]
    }
   ],
   "source": [
    "app = Flask(__name__)\n",
    " \n",
    "@app.route('/')\n",
    "def hello():\n",
    "    return 'Hello World!'\n",
    " \n",
    "@app.route('/goodbye')\n",
    "def goodbye():\n",
    "    shutdown_server()\n",
    "    return 'Sever shutting down...'\n",
    "    \n",
    "def shutdown_server():\n",
    "    func = request.environ.get('werkzeug.server.shutdown')\n",
    "    if func is None:\n",
    "        raise RuntimeError('Not running with the Werkzeug Server')\n",
    "    func()\n",
    "    \n",
    "if __name__ == \"__main__\":\n",
    "    app.run()"
   ]
  },
  {
   "cell_type": "markdown",
   "metadata": {},
   "source": [
    "# Specifying the Request Method\n",
    "Flask allows you to specify the allowed requests that can be made to a method.  We've added the below code.\n",
    "@app.route('/post', methods=['POST']) \n",
    "def post():\n",
    "    return \"Successful post\"\n",
    "    \n",
    "If you request the /post address using  GET request (enter the address http://127.0.0.1:5000/post) in your browser and you will receive: \n",
    "\"405 Method Not Allowed\"\n",
    "\n",
    "Issuing the request via a POST request (use Postman or curl) will return \n",
    "\"Successful post\""
   ]
  },
  {
   "cell_type": "code",
   "execution_count": null,
   "metadata": {},
   "outputs": [
    {
     "name": "stderr",
     "output_type": "stream",
     "text": [
      " * Running on http://127.0.0.1:5000/ (Press CTRL+C to quit)\n",
      "127.0.0.1 - - [28/Jan/2019 14:28:59] \"GET / HTTP/1.1\" 200 -\n",
      "127.0.0.1 - - [28/Jan/2019 14:29:05] \"GET /post HTTP/1.1\" 405 -\n",
      "127.0.0.1 - - [28/Jan/2019 14:33:10] \"GET /post HTTP/1.1\" 405 -\n",
      "127.0.0.1 - - [28/Jan/2019 14:33:16] \"POST /post HTTP/1.1\" 200 -\n"
     ]
    }
   ],
   "source": [
    "app = Flask(__name__)\n",
    " \n",
    "@app.route('/')\n",
    "def hello():\n",
    "    return 'Hello World!'\n",
    "\n",
    "@app.route('/post', methods=['POST'])\n",
    "def post():\n",
    "    return \"Successful post\"\n",
    " \n",
    "@app.route('/goodbye')\n",
    "def goodbye():\n",
    "    shutdown_server()\n",
    "    return 'Sever shutting down...'\n",
    "    \n",
    "def shutdown_server():\n",
    "    func = request.environ.get('werkzeug.server.shutdown')\n",
    "    if func is None:\n",
    "        raise RuntimeError('Not running with the Werkzeug Server')\n",
    "    func()\n",
    "    \n",
    "if __name__ == \"__main__\":\n",
    "    app.run()"
   ]
  },
  {
   "cell_type": "code",
   "execution_count": null,
   "metadata": {},
   "outputs": [],
   "source": []
  }
 ],
 "metadata": {
  "kernelspec": {
   "display_name": "Python 3",
   "language": "python",
   "name": "python3"
  },
  "language_info": {
   "codemirror_mode": {
    "name": "ipython",
    "version": 3
   },
   "file_extension": ".py",
   "mimetype": "text/x-python",
   "name": "python",
   "nbconvert_exporter": "python",
   "pygments_lexer": "ipython3",
   "version": "3.6.4"
  }
 },
 "nbformat": 4,
 "nbformat_minor": 2
}
