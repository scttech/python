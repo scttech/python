{
 "cells": [
  {
   "cell_type": "markdown",
   "metadata": {},
   "source": [
    "# Using Pandas for Sorting\n",
    "Import pandas library"
   ]
  },
  {
   "cell_type": "code",
   "execution_count": 7,
   "metadata": {},
   "outputs": [],
   "source": [
    "import pandas as pd"
   ]
  },
  {
   "cell_type": "markdown",
   "metadata": {},
   "source": [
    "We will now create some transactions and display them in a panda dataframe"
   ]
  },
  {
   "cell_type": "code",
   "execution_count": 8,
   "metadata": {},
   "outputs": [
    {
     "name": "stdout",
     "output_type": "stream",
     "text": [
      "   amount type\n",
      "0     4.0   db\n",
      "1    10.0   cr\n"
     ]
    }
   ],
   "source": [
    "transactions = [\n",
    "    { 'type': 'db', 'amount': 4.00 },\n",
    "    { 'type': 'cr', 'amount': 10.00}\n",
    "]\n",
    "\n",
    "df = pd.DataFrame(transactions)\n",
    "print(df)"
   ]
  },
  {
   "cell_type": "markdown",
   "metadata": {},
   "source": [
    "## Sorting the dataframe"
   ]
  },
  {
   "cell_type": "code",
   "execution_count": 12,
   "metadata": {},
   "outputs": [
    {
     "name": "stdout",
     "output_type": "stream",
     "text": [
      "   amount type\n",
      "1    10.0   cr\n",
      "0     4.0   db\n"
     ]
    }
   ],
   "source": [
    "df2 = df.sort_values('amount', ascending=False )\n",
    "print(df2)"
   ]
  },
  {
   "cell_type": "code",
   "execution_count": 14,
   "metadata": {},
   "outputs": [
    {
     "name": "stdout",
     "output_type": "stream",
     "text": [
      "   amount type\n",
      "0     4.0   db\n",
      "1    10.0   cr\n",
      "   amount type\n",
      "1    10.0   cr\n",
      "0     4.0   db\n"
     ]
    }
   ],
   "source": [
    "df3 = df.sort_values('type', ascending=True )\n",
    "print(df)\n",
    "print(df3)"
   ]
  },
  {
   "cell_type": "markdown",
   "metadata": {},
   "source": [
    "## Only selecting certain types of transactions"
   ]
  },
  {
   "cell_type": "code",
   "execution_count": 15,
   "metadata": {},
   "outputs": [
    {
     "name": "stdout",
     "output_type": "stream",
     "text": [
      "   amount type\n",
      "0     4.0   db\n"
     ]
    }
   ],
   "source": [
    "print(df.loc[df['type'] == 'db'])"
   ]
  },
  {
   "cell_type": "markdown",
   "metadata": {},
   "source": [
    "## Compute a balance"
   ]
  },
  {
   "cell_type": "code",
   "execution_count": 17,
   "metadata": {},
   "outputs": [
    {
     "name": "stdout",
     "output_type": "stream",
     "text": [
      "Balance is: 6.0\n"
     ]
    }
   ],
   "source": [
    "balance = 0\n",
    "for index, row in df.iterrows():\n",
    "    if row['type'] == 'db':\n",
    "        balance -= row['amount']\n",
    "    if row['type'] == 'cr':\n",
    "        balance += row['amount']\n",
    "        \n",
    "print(\"Balance is: \" + str(balance))\n"
   ]
  },
  {
   "cell_type": "markdown",
   "metadata": {},
   "source": [
    "## Charting the balance"
   ]
  },
  {
   "cell_type": "code",
   "execution_count": 29,
   "metadata": {},
   "outputs": [
    {
     "data": {
      "image/png": "[encoded data removed]",
      "text/plain": [
       "<Figure size 432x288 with 1 Axes>"
      ]
     },
     "metadata": {
      "needs_background": "light"
     },
     "output_type": "display_data"
    }
   ],
   "source": [
    "import matplotlib.pyplot as plt\n",
    "import numpy as np\n",
    "\n",
    "objects = ('DB First', 'CR First')\n",
    "y_pos = np.arange(len(objects))\n",
    "balances = [balance, 0]\n",
    " \n",
    "plt.bar(y_pos, balances, align='center', alpha=0.5)\n",
    "plt.xticks(y_pos, objects)\n",
    "plt.ylabel('Account Balance')\n",
    "plt.title('Effect of Posting Order on Account Balance')\n",
    " \n",
    "plt.show()"
   ]
  },
  {
   "cell_type": "code",
   "execution_count": null,
   "metadata": {},
   "outputs": [],
   "source": []
  }
 ],
 "metadata": {
  "kernelspec": {
   "display_name": "Python 3",
   "language": "python",
   "name": "python3"
  },
  "language_info": {
   "codemirror_mode": {
    "name": "ipython",
    "version": 3
   },
   "file_extension": ".py",
   "mimetype": "text/x-python",
   "name": "python",
   "nbconvert_exporter": "python",
   "pygments_lexer": "ipython3",
   "version": "3.5.3"
  }
 },
 "nbformat": 4,
 "nbformat_minor": 2
}
