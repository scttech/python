{
 "cells": [
  {
   "cell_type": "markdown",
   "metadata": {},
   "source": [
    "# PiBank\n",
    "\n",
    "PiBank is a real-time, open-source, core banking platform.\n",
    "\n",
    "It is written in Python3 with the intent of running on a Raspberry Pi.\n",
    "\n",
    "THe goal is to provide students and teachers with a platform to explore the worlds of Software Development and Finance."
   ]
  },
  {
   "cell_type": "markdown",
   "metadata": {},
   "source": [
    "# Setting up the Environment\n",
    "\n",
    "## Using Etcher to write the SD Card for Raspbian\n",
    "\n",
    "## Installing Jupyter Notebook\n",
    "To install the jupyter notebooks<br>\n",
    "`python3 -m pip install --upgrade pip`<br>\n",
    "`sudo python3 -m pip install jupyter`<br>\n",
    "<br><br>\n",
    "To run the notebook server\n",
    "`jupyter notebook`\n",
    "\n",
    "## Installing Visual Studio Code\n",
    "wget https://packagecloud.io/headmelted/codebuilds/gpgkey -O - | sudo apt-key add -\n",
    "curl -L https://code.headmelted.com/installers/apt.sh | sudo bash\n",
    "\n",
    "## Python3\n",
    "Ensure you have python3 available<br>\n",
    "`python3`<br><br>\n",
    "You will see, something similar to:<br>\n",
    "`Python 3.5.3 (default, Sep 27 2018, 17:25:39)`\n",
    "\n",
    "## MariaDB\n",
    "The examples are built around using MariaDB.  To install MariaDB:<br>\n",
    "`sudo apt-get install mariadb-server`<br><br>\n",
    "Then secure the installation:<br>\n",
    "`sudo mysql_secure_installation`<br>\n",
    "\n",
    "You'll be asked a number of questions about setting passwords and removing accounts.  YOu'll want to set a password, and take the defaults to secure the installation.\n",
    "\n",
    "## Flask\n",
    "Flask is a web server for Python\n",
    "\n",
    "## Graphene\n",
    "Graphene is a GraphQL implementation in Python\n",
    "\n",
    "## SQLAlchemy\n",
    "An Object Relationship Model (ORM) for Python\n",
    "\n",
    "## Angular\n",
    "The front-end is developed using Angular\n",
    "\n",
    "## OpenCV\n",
    "Used for vision and facial recognition projects\n"
   ]
  },
  {
   "cell_type": "markdown",
   "metadata": {},
   "source": [
    "# Setting up the python enviornment\n",
    "sudo pip install virtualenv virtualenvwrapper\n",
    "\n",
    "## Additional python packages needed\n",
    "virtualenv<br>\n",
    "virtualenvwrapper<br>\n",
    "numpy<br>\n",
    "dlib<br>\n",
    "face_recognition<br>\n",
    "picamera<br>\n",
    "picamera[array]<br>"
   ]
  }
 ],
 "metadata": {
  "kernelspec": {
   "display_name": "Python 3",
   "language": "python",
   "name": "python3"
  },
  "language_info": {
   "codemirror_mode": {
    "name": "ipython",
    "version": 3
   },
   "file_extension": ".py",
   "mimetype": "text/x-python",
   "name": "python",
   "nbconvert_exporter": "python",
   "pygments_lexer": "ipython3",
   "version": "3.5.3"
  }
 },
 "nbformat": 4,
 "nbformat_minor": 2
}
