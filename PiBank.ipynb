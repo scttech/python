{
 "cells": [
  {
   "cell_type": "markdown",
   "metadata": {},
   "source": [
    "# PiBank\n",
    "\n",
    "PiBank is a real-time, open-source, core banking platform.\n",
    "\n",
    "It is written in Python3 with the intent of running on a Raspberry Pi.\n",
    "\n",
    "THe goal is to provide students and teachers with a platform to explore the worlds of Software Development and Finance."
   ]
  },
  {
   "cell_type": "markdown",
   "metadata": {},
   "source": [
    "# Setting up the Environment\n",
    "\n",
    "## Using Etcher to write the SD Card for Raspbian\n",
    "\n",
    "## Installing Visual Studio Code\n",
    "wget https://packagecloud.io/headmelted/codebuilds/gpgkey -O - | sudo apt-key add -\n",
    "curl -L https://code.headmelted.com/installers/apt.sh | sudo bash\n",
    "\n",
    "## Python3\n",
    "Ensure you have python3 available\n",
    "\n",
    "## MariaDB\n",
    "The examples are built around using MariaDB\n",
    "\n",
    "## Flask\n",
    "Flask is a web server for Python\n",
    "\n",
    "## Graphene\n",
    "Graphene is a GraphQL implementation in Python\n",
    "\n",
    "## SQLAlchemy\n",
    "An Object Relationship Model (ORM) for Python\n",
    "\n",
    "## Angular\n",
    "The front-end is developed using Angular"
   ]
  }
 ],
 "metadata": {
  "kernelspec": {
   "display_name": "Python 3",
   "language": "python",
   "name": "python3"
  },
  "language_info": {
   "codemirror_mode": {
    "name": "ipython",
    "version": 3
   },
   "file_extension": ".py",
   "mimetype": "text/x-python",
   "name": "python",
   "nbconvert_exporter": "python",
   "pygments_lexer": "ipython3",
   "version": "3.5.3"
  }
 },
 "nbformat": 4,
 "nbformat_minor": 2
}
